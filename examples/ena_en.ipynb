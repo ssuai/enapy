{
 "cells": [
  {
   "cell_type": "markdown",
   "metadata": {},
   "source": [
    "## Using rENA in python\n",
    "\n",
    "The example below shows how to use the R library rENA with the python language.\n",
    "All python libraries can be used to manipulate and arrange data for plotting.\n",
    "\n",
    "All library functions can be called using the rENA interface. Another detail is that dots (.) should be replaced by underscores (_).\n",
    "\n",
    "Example:\n",
    "```\n",
    "    The ena.plot() function can be called using rENA.ena_plot()\n",
    "    The ena.plot.points() function can be called using rENA.ena_plot_points().\n",
    "```\n",
    "    \n",
    "### Necessary libraries:\n",
    "The R libraries rENA and data.table must be installed using the commands below:\n",
    "```\n",
    "install.packages(\"rENA\")\n",
    "install.packages(\"data.table\")\n",
    "```\n",
    "    \n",
    "In python we must install the rpy2 library using the following command:\n",
    "```\n",
    "pip install rpy2\n",
    "``` "
   ]
  },
  {
   "cell_type": "code",
   "execution_count": 1,
   "metadata": {},
   "outputs": [
    {
     "ename": "ModuleNotFoundError",
     "evalue": "No module named 'rpy2'",
     "output_type": "error",
     "traceback": [
      "\u001b[0;31m---------------------------------------------------------------------------\u001b[0m",
      "\u001b[0;31mModuleNotFoundError\u001b[0m                       Traceback (most recent call last)",
      "Input \u001b[0;32mIn [1]\u001b[0m, in \u001b[0;36m<cell line: 4>\u001b[0;34m()\u001b[0m\n\u001b[1;32m      1\u001b[0m \u001b[38;5;66;03m# -*- coding: UTF-8 -*-\u001b[39;00m\n\u001b[1;32m      3\u001b[0m \u001b[38;5;28;01mimport\u001b[39;00m \u001b[38;5;21;01mpandas\u001b[39;00m \u001b[38;5;28;01mas\u001b[39;00m \u001b[38;5;21;01mpd\u001b[39;00m\n\u001b[0;32m----> 4\u001b[0m \u001b[38;5;28;01mfrom\u001b[39;00m \u001b[38;5;21;01mrpy2\u001b[39;00m\u001b[38;5;21;01m.\u001b[39;00m\u001b[38;5;21;01mrobjects\u001b[39;00m \u001b[38;5;28;01mimport\u001b[39;00m r, pandas2ri, Formula\n\u001b[1;32m      5\u001b[0m \u001b[38;5;28;01mfrom\u001b[39;00m \u001b[38;5;21;01mrpy2\u001b[39;00m\u001b[38;5;21;01m.\u001b[39;00m\u001b[38;5;21;01mrobjects\u001b[39;00m\u001b[38;5;21;01m.\u001b[39;00m\u001b[38;5;21;01mpackages\u001b[39;00m \u001b[38;5;28;01mimport\u001b[39;00m importr\n\u001b[1;32m      6\u001b[0m \u001b[38;5;28;01mimport\u001b[39;00m \u001b[38;5;21;01mrpy2\u001b[39;00m\u001b[38;5;21;01m.\u001b[39;00m\u001b[38;5;21;01mrobjects\u001b[39;00m \u001b[38;5;28;01mas\u001b[39;00m \u001b[38;5;21;01mro\u001b[39;00m\n",
      "\u001b[0;31mModuleNotFoundError\u001b[0m: No module named 'rpy2'"
     ]
    }
   ],
   "source": [
    "# -*- coding: UTF-8 -*-\n",
    "\n",
    "import pandas as pd\n",
    "from rpy2.robjects import r, pandas2ri, Formula\n",
    "from rpy2.robjects.packages import importr\n",
    "import rpy2.robjects as ro\n",
    "from rpy2.robjects.conversion import localconverter\n",
    "pandas2ri.activate()  # makes some conversions automatic"
   ]
  },
  {
   "cell_type": "markdown",
   "metadata": {},
   "source": [
    "## Importing the rENA library from R\n",
    "Its functions will be available in the \"rENA\" variable"
   ]
  },
  {
   "cell_type": "code",
   "execution_count": 2,
   "metadata": {},
   "outputs": [],
   "source": [
    "rENA = importr('rENA')"
   ]
  },
  {
   "cell_type": "markdown",
   "metadata": {},
   "source": [
    "## The robjects function makes it possible to use R functions inside python"
   ]
  },
  {
   "cell_type": "code",
   "execution_count": 3,
   "metadata": {},
   "outputs": [],
   "source": [
    "# R functions ready to be called in python\n",
    "pr = ro.r(\"print\")\n",
    "colMeans = ro.r(\"colMeans\")\n",
    "rmax = ro.r(\"max\")"
   ]
  },
  {
   "cell_type": "code",
   "execution_count": 4,
   "metadata": {},
   "outputs": [],
   "source": [
    "# Reading the data to be plotted\n",
    "#rsdata = pd.read_csv(\"rsdata.csv\")\n",
    "# load your file\n",
    "object = ro.r['load']('RS.data.rda')\n",
    "r.data('RS.data')\n",
    "rsdata = r['RS.data']"
   ]
  },
  {
   "cell_type": "markdown",
   "metadata": {},
   "source": [
    "## Identify columns to use in the accumulator\n",
    "Before running the ena_accumulate_data function, we first need to identify which data columns to use in our units, conversations and codes. There is also an optional metadata parameter (meta), which is for unit-specific data that we want to carry through the accumulation process and keep associated with the identified units."
   ]
  },
  {
   "cell_type": "code",
   "execution_count": 5,
   "metadata": {},
   "outputs": [],
   "source": [
    "units = rsdata[['Condition','UserName']]\n",
    "conversation = rsdata[['Condition','GroupName']]\n",
    "codes = rsdata[['Data','Technical.Constraints','Performance.Parameters','Client.and.Consultant.Requests','Design.Reasoning','Collaboration']]\n",
    "meta = rsdata[[\"CONFIDENCE.Change\",\"CONFIDENCE.Pre\",\"CONFIDENCE.Post\",\"C.Change\"]]"
   ]
  },
  {
   "cell_type": "markdown",
   "metadata": {},
   "source": [
    "## Performing data accumulation\n",
    "With the data identified and subsets, the accumulation and generation of sets is quite simple."
   ]
  },
  {
   "cell_type": "code",
   "execution_count": 6,
   "metadata": {},
   "outputs": [],
   "source": [
    "accum = rENA.ena_accumulate_data(units, conversation, codes, meta)"
   ]
  },
  {
   "cell_type": "markdown",
   "metadata": {},
   "source": [
    "## Generating the ENA set\n",
    "The most basic form of an ENAset can be generated by passing the result of calling the ena_accumulate_data function to ena_make_set."
   ]
  },
  {
   "cell_type": "code",
   "execution_count": 7,
   "metadata": {},
   "outputs": [],
   "source": [
    "set = rENA.ena_make_set(\n",
    "  enadata=accum\n",
    ")"
   ]
  },
  {
   "cell_type": "markdown",
   "metadata": {},
   "source": [
    "## Plot Units In Each Group"
   ]
  },
  {
   "cell_type": "code",
   "execution_count": 8,
   "metadata": {},
   "outputs": [
    {
     "data": {
      "text/plain": [
       "R object with classes: ('ENAplot', 'R6') mapped to:"
      ]
     },
     "execution_count": 8,
     "metadata": {},
     "output_type": "execute_result"
    }
   ],
   "source": [
    "points = (set.rx2('points'))\n",
    "\n",
    "df_points1 = points.loc[points['Condition'] == \"FirstGame\"]\n",
    "df_points2 = points.loc[points['Condition'] == \"SecondGame\"]\n",
    "### Subset rotated points for the first condition\n",
    "first_game_points = df_points1.drop(columns=['ENA_UNIT','Condition','UserName', 'CONFIDENCE.Change', 'CONFIDENCE.Pre', 'CONFIDENCE.Post', \"C.Change\"])\n",
    "### Subset rotated points for the second condition\n",
    "second_game_points = df_points2.drop(columns=['ENA_UNIT','Condition','UserName',  'CONFIDENCE.Change', 'CONFIDENCE.Pre', 'CONFIDENCE.Post', \"C.Change\"])\n",
    "\n",
    "\n",
    "\n",
    "plot = rENA.ena_plot(set, scale_to =\"network\", title =\"Groups of Units\")\n",
    "plot = rENA.ena_plot_points(plot, points = first_game_points, confidence_interval =\"box\", colors = (\"blue\"))\n",
    "plot = rENA.ena_plot_points(plot, points = second_game_points, confidence_interval =\"box\", colors = (\"red\"))\n",
    "pr(plot)"
   ]
  },
  {
   "cell_type": "markdown",
   "metadata": {},
   "source": [
    "## Plotting Means"
   ]
  },
  {
   "cell_type": "code",
   "execution_count": 9,
   "metadata": {},
   "outputs": [
    {
     "data": {
      "text/plain": [
       "R object with classes: ('ENAplot', 'R6') mapped to:"
      ]
     },
     "execution_count": 9,
     "metadata": {},
     "output_type": "execute_result"
    }
   ],
   "source": [
    "plot = rENA.ena_plot(set, scale_to = [-1, 0, 1], title =\"Groups and Means\")\n",
    "plot = rENA.ena_plot_points(plot, points = first_game_points, confidence_interval =\"box\", colors = (\"blue\"))\n",
    "plot = rENA.ena_plot_points(plot, points = second_game_points, confidence_interval =\"box\", colors = (\"red\"))\n",
    "plot = rENA.ena_plot_group(plot, first_game_points, colors = (\"red\"), confidence_interval =\"box\")\n",
    "plot = rENA.ena_plot_group(plot, second_game_points, colors =(\"blue\"), confidence_interval =\"box\")\n",
    "pr(plot)"
   ]
  },
  {
   "cell_type": "markdown",
   "metadata": {},
   "source": [
    "## Plotting a Network"
   ]
  },
  {
   "cell_type": "code",
   "execution_count": 10,
   "metadata": {},
   "outputs": [],
   "source": [
    "line_weights = (set.rx2('line.weights'))\n",
    "\n",
    "### Subset lineweights for SecondGame and Calculate the colMeans\n",
    "first_game_lineweights = line_weights.loc[points['Condition'] == \"FirstGame\"]\n",
    "second_game_lineweights = line_weights.loc[points['Condition'] == \"SecondGame\"]\n",
    "\n",
    "first_game_lineweights = first_game_lineweights.drop(columns=['ENA_UNIT','Condition','UserName', 'CONFIDENCE.Change', 'CONFIDENCE.Pre', 'CONFIDENCE.Post', \"C.Change\"])\n",
    "### Subset rotated points for the second condition\n",
    "second_game_lineweights = second_game_lineweights.drop(columns=['ENA_UNIT','Condition','UserName',  'CONFIDENCE.Change', 'CONFIDENCE.Pre', 'CONFIDENCE.Post', \"C.Change\"])\n",
    "\n",
    "first_game_mean = colMeans(first_game_lineweights)\n",
    "second_game_mean = colMeans(second_game_lineweights)\n",
    "\n",
    "subtracted_mean = first_game_mean - second_game_mean"
   ]
  },
  {
   "cell_type": "code",
   "execution_count": 11,
   "metadata": {},
   "outputs": [
    {
     "data": {
      "text/plain": [
       "R object with classes: ('ENAplot', 'R6') mapped to:"
      ]
     },
     "execution_count": 11,
     "metadata": {},
     "output_type": "execute_result"
    }
   ],
   "source": [
    "plot_first = rENA.ena_plot(set, title =\"FirstGame\")\n",
    "plot_first = rENA.ena_plot_network(plot_first, network = first_game_mean)\n",
    "pr(plot_first)"
   ]
  },
  {
   "cell_type": "code",
   "execution_count": 12,
   "metadata": {},
   "outputs": [
    {
     "data": {
      "text/plain": [
       "R object with classes: ('ENAplot', 'R6') mapped to:"
      ]
     },
     "execution_count": 12,
     "metadata": {},
     "output_type": "execute_result"
    }
   ],
   "source": [
    "plot_second = rENA.ena_plot(set, title =\"SecondGame\")\n",
    "plot_second = rENA.ena_plot_network(plot_second, network = second_game_mean, colors = (\"blue\"))\n",
    "pr(plot_second)"
   ]
  },
  {
   "cell_type": "markdown",
   "metadata": {},
   "source": [
    "## Plot subtracted network only"
   ]
  },
  {
   "cell_type": "code",
   "execution_count": 13,
   "metadata": {},
   "outputs": [
    {
     "data": {
      "text/plain": [
       "R object with classes: ('ENAplot', 'R6') mapped to:"
      ]
     },
     "execution_count": 13,
     "metadata": {},
     "output_type": "execute_result"
    }
   ],
   "source": [
    "plot_sub = rENA.ena_plot(set, title =\"Subtracted\")\n",
    "plot_sub = rENA.ena_plot_network(plot_sub, network = subtracted_mean)\n",
    "pr(plot_sub)"
   ]
  },
  {
   "cell_type": "markdown",
   "metadata": {},
   "source": [
    "## Plot Everything Together"
   ]
  },
  {
   "cell_type": "code",
   "execution_count": 14,
   "metadata": {
    "scrolled": false
   },
   "outputs": [
    {
     "data": {
      "text/plain": [
       "R object with classes: ('ENAplot', 'R6') mapped to:"
      ]
     },
     "execution_count": 14,
     "metadata": {},
     "output_type": "execute_result"
    }
   ],
   "source": [
    "rotation = (set.rx2('rotation'))\n",
    "nodes = rotation.rx2('nodes')\n",
    "\n",
    "# Scale the nodes to match that of the network, for better viewing\n",
    "first_game_points_max = rmax(first_game_points)\n",
    "second_game_points_max = rmax(second_game_points)\n",
    "if(first_game_points_max> second_game_points_max):\n",
    "  point_max = first_game_points_max\n",
    "else:\n",
    "  point_max = second_game_points_max\n",
    "\n",
    "nodes = nodes.drop(columns=['code'])\n",
    "max_nodes = rmax(nodes)\n",
    "with localconverter(ro.default_converter + pandas2ri.converter):\n",
    "  first_game_points = ro.conversion.py2rpy(first_game_points)\n",
    "\n",
    "first_game_scaled = first_game_points\n",
    "second_game_scaled = second_game_points\n",
    "\n",
    "plot = rENA.ena_plot(set, title =\"Plot with Units and Network\", font_family =\"Times\")\n",
    "plot = rENA.ena_plot_points(plot, points = first_game_scaled, colors = (\"red\"))\n",
    "plot = rENA.ena_plot_points(plot, points = second_game_scaled, colors = (\"blue\"))\n",
    "plot = rENA.ena_plot_group(plot, point = first_game_scaled, colors =(\"red\"), confidence_interval =\"box\")\n",
    "plot = rENA.ena_plot_group(plot, point = second_game_scaled, colors =(\"blue\"), confidence_interval =\"box\")\n",
    "plot = rENA.ena_plot_network(plot, network = subtracted_mean)\n",
    "pr(plot)\n"
   ]
  }
 ],
 "metadata": {
  "kernelspec": {
   "display_name": "Python 3 (ipykernel)",
   "language": "python",
   "name": "python3"
  },
  "language_info": {
   "codemirror_mode": {
    "name": "ipython",
    "version": 3
   },
   "file_extension": ".py",
   "mimetype": "text/x-python",
   "name": "python",
   "nbconvert_exporter": "python",
   "pygments_lexer": "ipython3",
   "version": "3.9.13"
  }
 },
 "nbformat": 4,
 "nbformat_minor": 4
}
